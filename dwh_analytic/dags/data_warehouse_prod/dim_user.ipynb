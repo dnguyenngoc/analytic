{
 "cells": [
  {
   "cell_type": "code",
   "execution_count": 1,
   "metadata": {},
   "outputs": [],
   "source": [
    "import requests\n",
    "import json\n",
    "import pandas as pd\n",
    "from db_connect import EngineConnect as DatabaseConnect\n",
    "import config\n",
    "import pickle"
   ]
  },
  {
   "cell_type": "code",
   "execution_count": 2,
   "metadata": {},
   "outputs": [],
   "source": [
    "class DimUserModel:\n",
    "    def __init__(\n",
    "        self,\n",
    "        *kwargs,\n",
    "        staff_code: str,\n",
    "        user_name: str,\n",
    "        full_name: int,\n",
    "        job_title: int,\n",
    "        location: str,\n",
    "        department: int,\n",
    "        manager_full_name: str,\n",
    "        manager_user_name: str,\n",
    "        work_shift: str\n",
    "    ):\n",
    "        self.staff_code = staff_code\n",
    "        self.user_name = user_name\n",
    "        self.full_name = full_name\n",
    "        self.job_title = job_title\n",
    "        self.location = location\n",
    "        self.department = department\n",
    "        self.manager_full_name = manager_full_name\n",
    "        self.manager_user_name = manager_user_name\n",
    "        self.work_shift = work_shift"
   ]
  },
  {
   "cell_type": "code",
   "execution_count": 3,
   "metadata": {},
   "outputs": [],
   "source": [
    "class DimUserExecutor:\n",
    "    def __init__(\n",
    "        self,\n",
    "        *kwargs,\n",
    "        environment: str,\n",
    "        url: str,\n",
    "        schema: str,\n",
    "        table: str,\n",
    "        index: list = None,\n",
    "        db: DatabaseConnect\n",
    "    ):\n",
    "        self.environment = environment\n",
    "        self.url = url\n",
    "        self.schema = schema\n",
    "        self.table = table\n",
    "        self.index = index\n",
    "        self.db = db\n",
    "        \n",
    "    def get_data(self):\n",
    "        if self.environment == 'development':\n",
    "            data_load = pickle.load(open('dim_user.pickle', 'rb'))\n",
    "        else:\n",
    "            response = requests.get(self.url)\n",
    "            datatext = response.text\n",
    "            data_load = json.loads(datatext)\n",
    "        return data_load\n",
    "        \n",
    "    def transform_data(self):\n",
    "        data = self.get_data()\n",
    "        col_rename = {\n",
    "            'StaffCode': 'staff_code', \n",
    "            'Username': 'user_name',\n",
    "            'Fullname': 'full_name',\n",
    "            'JobTitle': 'job_title',\n",
    "            'ManagerUserName': 'manager_user_name',\n",
    "            'ManagerFullName': 'manager_full_name',\n",
    "            'Department': 'department',\n",
    "            'Location': 'location',\n",
    "            'WorkShift': 'work_shift',\n",
    "        }\n",
    "        df = pd.json_normalize(data)\n",
    "        df = df.rename(columns = col_rename)\n",
    "        if self.index == None:\n",
    "            self.db.update_df(df, self.schema, self.table)\n",
    "        else:\n",
    "            self.db.update_df_with_index(df, self.schema, self.table, self.index)"
   ]
  },
  {
   "cell_type": "code",
   "execution_count": 4,
   "metadata": {},
   "outputs": [],
   "source": [
    "db_connect = DatabaseConnect(uri = config.DWH_SQLALCHEMY_URI)\n",
    "dim_user = DimUserExecutor(\n",
    "    environment = config.ENVIRONMENT,\n",
    "    url = config.EHR_URL_USER_INFOR,\n",
    "    schema = config.DWH_ANALYTIC_SCHEMA,\n",
    "    table = config.DWH_DIM_USER_TABLE,\n",
    "    db = db_connect,\n",
    "    index = ['user_name']\n",
    ")\n",
    "dim_user.transform_data()"
   ]
  }
 ],
 "metadata": {
  "kernelspec": {
   "display_name": "Python 3",
   "language": "python",
   "name": "python3"
  },
  "language_info": {
   "codemirror_mode": {
    "name": "ipython",
    "version": 3
   },
   "file_extension": ".py",
   "mimetype": "text/x-python",
   "name": "python",
   "nbconvert_exporter": "python",
   "pygments_lexer": "ipython3",
   "version": "3.9.0"
  }
 },
 "nbformat": 4,
 "nbformat_minor": 4
}
