{
 "cells": [
  {
   "cell_type": "code",
   "execution_count": 1,
   "metadata": {},
   "outputs": [],
   "source": [
    "from pymongo import MongoClient\n",
    "import pickle\n",
    "from pprint import pprint\n",
    "import config\n",
    "\n",
    "from pandas import read_excel\n",
    "import pandas as pd\n",
    "import function as func\n",
    "import datetime\n",
    "from typing import List, Tuple\n",
    "from db_connect import EngineConnect as DatabaseConnect\n",
    "from sqlalchemy.sql import text"
   ]
  },
  {
   "cell_type": "code",
   "execution_count": 3,
   "metadata": {},
   "outputs": [
    {
     "ename": "IndentationError",
     "evalue": "unindent does not match any outer indentation level (<tokenize>, line 4)",
     "output_type": "error",
     "traceback": [
      "\u001b[1;36m  File \u001b[1;32m\"<tokenize>\"\u001b[1;36m, line \u001b[1;32m4\u001b[0m\n\u001b[1;33m    elif type == 'qc':\u001b[0m\n\u001b[1;37m    ^\u001b[0m\n\u001b[1;31mIndentationError\u001b[0m\u001b[1;31m:\u001b[0m unindent does not match any outer indentation level\n"
     ]
    }
   ],
   "source": [
    "def get_process_id_performance(self, type):\n",
    "    if type == 'keying':\n",
    "            return 3\n",
    "        elif type == 'qc':\n",
    "            return 5\n",
    "        elif type == 'approve_qc':\n",
    "            return 6\n",
    "     \n",
    "def get_working_type_id_by_name(self, name: str):\n",
    "    if name == 'In WorkShift':\n",
    "        return 1\n",
    "    else:\n",
    "        return 2\n",
    "    \n",
    "    \n",
    "    \n",
    "    \n",
    "    \n",
    "data_model = DataModel()\n",
    "dim_process = data_model.dim_process()\n",
    "dim_work_type = data_model.dim_work_type()\n",
    "data_model.update(dim_process, config.DWH_ANALYTIC_SCHEMA, config.DWH_DIM_PROCESS_TABLE)\n",
    "data_model.update(dim_work_type, config.DWH_ANALYTIC_SCHEMA, config.DWH_DIM_WORK_TYPE_TABLE)"
   ]
  },
  {
   "cell_type": "code",
   "execution_count": null,
   "metadata": {},
   "outputs": [],
   "source": [
    "class FactPerformanceModel:\n",
    "    def __init__(\n",
    "        self,\n",
    "        *kwargs,\n",
    "        ori_id: str,\n",
    "        project_id: str,\n",
    "        group_id: str = None,\n",
    "        document_id: str = None,\n",
    "        reworked: bool = False,\n",
    "        work_type_id: int,\n",
    "        process_key: int,\n",
    "        number_of_record: int,\n",
    "        user_name: str,\n",
    "        ip: str = None,\n",
    "        captured_date_timestamp: str,\n",
    "        captured_date_key: int,\n",
    "        captured_time_key: int,\n",
    "        total_time_second: int\n",
    "    ):\n",
    "        self.ori_id = ori_id\n",
    "        self.project_id = project_id\n",
    "        self.group_id = group_id\n",
    "        self.document_id = document_id\n",
    "        self.reworked = reworked\n",
    "        self.work_type_id = work_type_id        \n",
    "        self.process_key = process_key\n",
    "        self.number_of_record = number_of_record\n",
    "        self.user_name = user_name\n",
    "        self.ip = ip\n",
    "        self.captured_date_timestamp = captured_date_timestamp\n",
    "        self.captured_date_key = captured_date_key\n",
    "        self.captured_time_key = captured_time_key\n",
    "        self.total_time_second = total_time_second\n",
    "        \n",
    "\n",
    "class DimProcessModel:\n",
    "    def __init__(\n",
    "        self,\n",
    "        *kwargs,\n",
    "        id: str,\n",
    "        module: str = None,\n",
    "        step: str = None,\n",
    "        sub_step: str = None,\n",
    "        resource: str\n",
    "     ):\n",
    "        self.id = id\n",
    "        self.module = type\n",
    "        self.step = step\n",
    "        self.sub_step = sub_step\n",
    "        self.resource = resource"
   ]
  },
  {
   "cell_type": "code",
   "execution_count": null,
   "metadata": {},
   "outputs": [],
   "source": [
    "pers_load = pickle.load(open('performance_eclaims.pickle', 'rb'))\n",
    "data_performance = [item for item in pers_load]"
   ]
  },
  {
   "cell_type": "code",
   "execution_count": null,
   "metadata": {},
   "outputs": [],
   "source": [
    "fact_performances = []"
   ]
  },
  {
   "cell_type": "code",
   "execution_count": 8,
   "metadata": {},
   "outputs": [
    {
     "name": "stdout",
     "output_type": "stream",
     "text": [
      "{'captured_date_key': 20191203,\n",
      " 'captured_date_timestamp': datetime.datetime(2019, 12, 3, 0, 0),\n",
      " 'captured_time_key': 0,\n",
      " 'document_id': '5de6246d62ca2e0011908f4e',\n",
      " 'group_id': None,\n",
      " 'ip': None,\n",
      " 'number_of_record': 1,\n",
      " 'ori_id': '5de6688d52439f0014f786d9',\n",
      " 'process_id': 3,\n",
      " 'project_id': '5db144de27f919001f5f25e5',\n",
      " 'reworked': False,\n",
      " 'total_time_second': 156289,\n",
      " 'user_name': 'nhattta',\n",
      " 'work_type_id': 1}\n"
     ]
    }
   ],
   "source": [
    "for performance in data_performance:\n",
    "    performance_keys = performance.keys()\n",
    "    ori_id = func.bson_object_to_string(performance['_id'])\n",
    "    project_id = '5db144de27f919001f5f25e5'\n",
    "    group_id = performance['group_id']\n",
    "    document_id = performance['documentId']\n",
    "    reworked = performance['has_rework']\n",
    "    work_type_id = data_model.get_working_type_id_by_name(performance['work_type']) \n",
    "    user_name = performance['username']\n",
    "    ip = None\n",
    "    captured_date_timestamp = datetime.datetime.strptime(performance['captured_date'], '%d/%m/%Y')\n",
    "    captured_date_key = func.time_to_date_key(captured_date_timestamp)\n",
    "    captured_time_key = 0\n",
    "    \n",
    "    layout_name = performance['layout_name']\n",
    "    module_type = performance['type'] \n",
    "    section_name = performance['section_name']\n",
    "    if section_name != None:\n",
    "        section_name = section_name[0]\n",
    "    else:\n",
    "        section_name = ''\n",
    "        \n",
    "    task_name = performance['task_name'] \n",
    "    process_key = data_model.get_process_id_performance(module_type)\n",
    "    number_of_record = performance['records']\n",
    "    total_time_second = performance['total_time']\n",
    "    obj_ = FactPerformanceModel(\n",
    "        ori_id = ori_id,  \n",
    "        project_id = project_id,  \n",
    "        group_id = group_id,  \n",
    "        document_id = document_id,  \n",
    "        reworked = reworked,  \n",
    "        work_type_id = work_type_id,  \n",
    "        process_key = process_key,  \n",
    "        number_of_record = number_of_record,  \n",
    "        user_name = user_name, \n",
    "        ip = ip , \n",
    "        captured_date_timestamp = captured_date_timestamp,  \n",
    "        captured_date_key = captured_date_key,  \n",
    "        captured_time_key = captured_time_key,  \n",
    "        total_time_second = total_time_second \n",
    "    )\n",
    "    fact_performances.append(obj_)\n",
    "    \n",
    "pprint(fact_performances[0].__dict__)\n",
    "data_model.create([item.__dict__ for item in fact_performances], config.DWH_ANALYTIC_SCHEMA, config.DWH_FACT_PERFORMANCE_TABLE) "
   ]
  },
  {
   "cell_type": "code",
   "execution_count": null,
   "metadata": {},
   "outputs": [],
   "source": []
  }
 ],
 "metadata": {
  "kernelspec": {
   "display_name": "Python 3",
   "language": "python",
   "name": "python3"
  },
  "language_info": {
   "codemirror_mode": {
    "name": "ipython",
    "version": 3
   },
   "file_extension": ".py",
   "mimetype": "text/x-python",
   "name": "python",
   "nbconvert_exporter": "python",
   "pygments_lexer": "ipython3",
   "version": "3.9.0"
  }
 },
 "nbformat": 4,
 "nbformat_minor": 4
}
